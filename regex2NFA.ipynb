{
  "cells": [
    {
      "cell_type": "markdown",
      "metadata": {
        "id": "PVdG0vBDABkI"
      },
      "source": [
        "# Postfix To NFA"
      ]
    },
    {
      "cell_type": "code",
      "execution_count": null,
      "metadata": {
        "id": "LkZDa532WJ8i"
      },
      "outputs": [],
      "source": [
        "import shunting_yard\n",
        "from regex2NFA import State,NFA\n",
        "from NFA2DFA import DFA\n",
        "from minDFA import MinimizedDFA\n",
        "from IPython.display import Image"
      ]
    },
    {
      "cell_type": "markdown",
      "metadata": {},
      "source": [
        "# Visualization Function"
      ]
    },
    {
      "cell_type": "code",
      "execution_count": 5,
      "metadata": {
        "id": "GlnPj52gbnUs"
      },
      "outputs": [
        {
          "ename": "ModuleNotFoundError",
          "evalue": "No module named 'graphviz'",
          "output_type": "error",
          "traceback": [
            "\u001b[31m---------------------------------------------------------------------------\u001b[39m",
            "\u001b[31mModuleNotFoundError\u001b[39m                       Traceback (most recent call last)",
            "\u001b[36mCell\u001b[39m\u001b[36m \u001b[39m\u001b[32mIn[5]\u001b[39m\u001b[32m, line 1\u001b[39m\n\u001b[32m----> \u001b[39m\u001b[32m1\u001b[39m \u001b[38;5;28;01mfrom\u001b[39;00m\u001b[38;5;250m \u001b[39m\u001b[34;01mgraphviz\u001b[39;00m\u001b[38;5;250m \u001b[39m\u001b[38;5;28;01mimport\u001b[39;00m Digraph\n\u001b[32m      3\u001b[39m \u001b[38;5;28;01mdef\u001b[39;00m\u001b[38;5;250m \u001b[39m\u001b[34mvisualize_NFA\u001b[39m(nfa):\n\u001b[32m      5\u001b[39m   gra = Digraph(graph_attr={\u001b[33m'\u001b[39m\u001b[33mrankdir\u001b[39m\u001b[33m'\u001b[39m:\u001b[33m'\u001b[39m\u001b[33mLR\u001b[39m\u001b[33m'\u001b[39m})\n",
            "\u001b[31mModuleNotFoundError\u001b[39m: No module named 'graphviz'"
          ]
        }
      ],
      "source": [
        "from graphviz import Digraph\n",
        "\n",
        "def visualize_NFA(nfa):\n",
        "\n",
        "  gra = Digraph(graph_attr={'rankdir':'LR'})\n",
        "\n",
        "\n",
        "  for s in nfa.states:\n",
        "      if(s.name == nfa.start.name):\n",
        "        gra.node(\"\", _attributes={'shape' : 'none'})\n",
        "        gra.edge(\"\", s.name)\n",
        "      if(s.name == nfa.accepting.name):\n",
        "        gra.node(s.name, _attributes={'peripheries' : '2'})\n",
        "      else:\n",
        "        gra.node(s.name)\n",
        "\n",
        "  edge_set = set()\n",
        "  for state in nfa.states:\n",
        "    for edge in state.out_edges:\n",
        "\n",
        "        destination = edge.dest\n",
        "        edge_key = (state.name, destination.name, edge.label)\n",
        "        if edge_key not in edge_set:\n",
        "            edge_set.add(edge_key)\n",
        "            gra.edge(state.name, destination.name, label=edge.label)\n",
        "\n",
        "  gra.format = 'png'\n",
        "  gra.render('NFA', view = True)\n",
        "  return gra.source"
      ]
    },
    {
      "cell_type": "markdown",
      "metadata": {
        "id": "JdTE8Mjn_3bA"
      },
      "source": [
        "# NFA To DFA"
      ]
    },
    {
      "cell_type": "code",
      "execution_count": 144,
      "metadata": {},
      "outputs": [],
      "source": [
        "postfix = shunting_yard.infix2postfix('a+b')\n",
        "nfa = NFA.postfix2NFA(postfix)\n",
        "nfa.to_json()\n",
        "\n",
        "dfa = DFA()\n",
        "transitions,renamed_transitions=dfa.NFA2DFA(nfa)\n",
        "dfa.to_json(transitions,renamed_transitions)\n",
        "\n",
        "minimized_dfa = MinimizedDFA(dfa, renamed_transitions)\n",
        "minimized_dfa.minimize()\n",
        "minimized_dfa.to_json()\n"
      ]
    },
    {
      "cell_type": "code",
      "execution_count": null,
      "metadata": {},
      "outputs": [],
      "source": [
        "visualize_NFA(nfa)\n",
        "Image(filename='NFA.png')"
      ]
    }
  ],
  "metadata": {
    "colab": {
      "provenance": []
    },
    "kernelspec": {
      "display_name": "Python 3",
      "name": "python3"
    },
    "language_info": {
      "codemirror_mode": {
        "name": "ipython",
        "version": 3
      },
      "file_extension": ".py",
      "mimetype": "text/x-python",
      "name": "python",
      "nbconvert_exporter": "python",
      "pygments_lexer": "ipython3",
      "version": "3.13.2"
    }
  },
  "nbformat": 4,
  "nbformat_minor": 0
}
