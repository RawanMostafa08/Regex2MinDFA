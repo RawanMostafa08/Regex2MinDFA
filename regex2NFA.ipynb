{
  "cells": [
    {
      "cell_type": "code",
      "execution_count": 68,
      "metadata": {
        "id": "LkZDa532WJ8i"
      },
      "outputs": [],
      "source": [
        "import json\n",
        "from collections import defaultdict"
      ]
    },
    {
      "cell_type": "code",
      "execution_count": 127,
      "metadata": {
        "id": "d2-bIz7fVIcn"
      },
      "outputs": [],
      "source": [
        "epsilon = \"\\u03B5\"\n",
        "alphanumerics = 'abcdefghijklmnopqrstuvwxyzABCDEFGHIJKLMNOPQRSTUVWXYZ0123456789'\n",
        "\n",
        "class State:\n",
        "    def __init__(self,name):\n",
        "        self.name = name\n",
        "        self.in_edges = []\n",
        "        self.out_edges = []\n",
        "\n",
        "class Edge:\n",
        "    def __init__(self, label:str ,dest:State):\n",
        "        self.label = label\n",
        "        self.dest = dest\n",
        "\n",
        "class NFA:\n",
        "    def __init__(self, char: str, start: State, accepting: State):\n",
        "        self.states = [start,accepting]\n",
        "        self.start = start\n",
        "        self.accepting = accepting\n",
        "\n",
        "        edge = Edge(char,self.accepting)\n",
        "        self.start.out_edges.append(edge)\n",
        "        self.accepting.in_edges.append(edge)\n",
        "\n",
        "    @staticmethod\n",
        "    def postfix2NFA(postfix:str):\n",
        "        stack = []\n",
        "        state_counter= 1\n",
        "\n",
        "        for char in postfix:\n",
        "            if char=='.':\n",
        "                nfa2 = stack.pop()\n",
        "                nfa1 = stack.pop()\n",
        "\n",
        "                edge = Edge(epsilon,nfa2.start)\n",
        "                nfa1.accepting.out_edges.append(edge)\n",
        "                nfa2.start.in_edges.append(edge)\n",
        "\n",
        "                concatenated_nfa = NFA(epsilon, nfa1.start, nfa2.accepting)\n",
        "\n",
        "                concatenated_nfa.states = nfa1.states + nfa2.states\n",
        "                stack.append(concatenated_nfa)\n",
        "\n",
        "            elif char=='|':\n",
        "                nfa2 = stack.pop()\n",
        "                nfa1 = stack.pop()\n",
        "                new_start = State('S' + str(state_counter))\n",
        "                new_accept = State('S' +  str(state_counter +1))\n",
        "                state_counter += 2\n",
        "                edge1,edge2,edge3,edge4 = Edge(epsilon,nfa1.start),Edge(epsilon,nfa2.start),Edge(epsilon,new_accept),Edge(epsilon,new_accept)\n",
        "\n",
        "\n",
        "                new_start.out_edges.append(edge1)\n",
        "                nfa1.start.in_edges.append(edge1)\n",
        "\n",
        "                new_start.out_edges.append(edge2)\n",
        "                nfa2.start.in_edges.append(edge2)\n",
        "\n",
        "                nfa1.accepting.out_edges.append(edge3)\n",
        "                new_accept.in_edges.append(edge3)\n",
        "\n",
        "                nfa2.accepting.out_edges.append(edge4)\n",
        "                new_accept.in_edges.append(edge4)\n",
        "\n",
        "                ored_nfa= NFA(epsilon, new_start, new_accept)\n",
        "\n",
        "                ored_nfa.states = [new_start, new_accept] + nfa1.states + nfa2.states\n",
        "                stack.append(ored_nfa)\n",
        "\n",
        "            elif char=='*':\n",
        "                nfa = stack.pop()\n",
        "                new_start = State('S' + str(state_counter))\n",
        "                new_accept = State('S' +  str(state_counter +1))\n",
        "                state_counter += 2\n",
        "                edge1,edge2,edge3,edge4 = Edge(epsilon,nfa.start),Edge(epsilon,new_accept),Edge(epsilon,nfa.start),Edge(epsilon,new_accept)\n",
        "\n",
        "                new_start.out_edges.append(edge1)\n",
        "                nfa.start.in_edges.append(edge1)\n",
        "\n",
        "                nfa.accepting.out_edges.append(edge2)\n",
        "                new_accept.in_edges.append(edge2)\n",
        "\n",
        "                nfa.accepting.out_edges.append(edge3)\n",
        "                nfa.start.in_edges.append(edge3)\n",
        "\n",
        "                new_start.out_edges.append(edge4)\n",
        "                new_accept.in_edges.append(edge4)\n",
        "\n",
        "                zero_or_more_nfa = NFA(epsilon, new_start, new_accept)\n",
        "                zero_or_more_nfa.states = [new_start, new_accept] + nfa.states\n",
        "                stack.append(zero_or_more_nfa)\n",
        "\n",
        "            elif char=='+':\n",
        "                nfa = stack.pop()\n",
        "                new_start = State('S' + str(state_counter))\n",
        "                new_accept = State('S' +  str(state_counter +1))\n",
        "                state_counter += 2\n",
        "                edge1,edge2,edge3 = Edge(epsilon,nfa.start),Edge(epsilon,new_accept),Edge(epsilon,nfa.start)\n",
        "\n",
        "                new_start.out_edges.append(edge1)\n",
        "                nfa.start.in_edges.append(edge1)\n",
        "\n",
        "                nfa.accepting.out_edges.append(edge2)\n",
        "                new_accept.in_edges.append(edge2)\n",
        "\n",
        "                nfa.accepting.out_edges.append(edge3)\n",
        "                nfa.start.in_edges.append(edge3)\n",
        "\n",
        "                one_or_more_nfa = NFA(epsilon, new_start, new_accept)\n",
        "                one_or_more_nfa.states = [new_start, new_accept] + nfa.states\n",
        "                stack.append(one_or_more_nfa)\n",
        "\n",
        "            elif char == '?':\n",
        "                nfa = stack.pop()\n",
        "                new_start = State('S' + str(state_counter))\n",
        "                new_accept = State('S' +  str(state_counter +1))\n",
        "                state_counter += 2\n",
        "                edge1,edge2,edge3 = Edge(epsilon,nfa.start),Edge(epsilon,new_accept),Edge(epsilon,new_accept)\n",
        "\n",
        "                new_start.out_edges.append(edge1)\n",
        "                nfa.start.in_edges.append(edge1)\n",
        "\n",
        "                nfa.accepting.out_edges.append(edge2)\n",
        "                new_accept.in_edges.append(edge2)\n",
        "\n",
        "                new_start.out_edges.append(edge3)\n",
        "                new_accept.in_edges.append(edge3)\n",
        "\n",
        "                zero_or_one_nfa = NFA(epsilon, new_start, new_accept)\n",
        "                zero_or_one_nfa.states = [new_start, new_accept] + nfa.states\n",
        "                stack.append(zero_or_one_nfa)\n",
        "\n",
        "            elif char in alphanumerics:\n",
        "                start_state = State('S' + str(state_counter))\n",
        "                accept_state = State('S' +  str(state_counter +1))\n",
        "                state_counter += 2\n",
        "\n",
        "                edge = Edge(char,accept_state)\n",
        "\n",
        "                start_state.out_edges.append(edge)\n",
        "                accept_state.in_edges.append(edge)\n",
        "\n",
        "                single_char_nfa = NFA(char, start_state, accept_state)\n",
        "                single_char_nfa.states.extend([start_state,accept_state])\n",
        "\n",
        "                stack.append(single_char_nfa)\n",
        "\n",
        "        return stack.pop()\n",
        "\n",
        "    def to_json(self):\n",
        "        nfa_dict = {\"startingState\": self.start.name}\n",
        "\n",
        "        for state in self.states:\n",
        "            state_info = {\"isTerminatingState\": state == self.accepting}\n",
        "            edge_dict = {}\n",
        "            for edge in state.out_edges:\n",
        "                  destination = edge.dest\n",
        "                # destination = None\n",
        "                # for s in self.states:\n",
        "                #     if edge in s.in_edges:\n",
        "                #         destination = s\n",
        "                #         break\n",
        "\n",
        "                # if destination:\n",
        "\n",
        "                  if edge.label in edge_dict:\n",
        "                    if destination.name not in edge_dict[edge.label]:\n",
        "                      edge_dict[edge.label].append(destination.name)\n",
        "                    #  state_info[edge.label] = list(state_info[edge.label]) + [destination.name]\n",
        "                  else:\n",
        "                      edge_dict[edge.label] = [destination.name]\n",
        "\n",
        "            for label, destinations in edge_dict.items():\n",
        "                state_info[label] = destinations\n",
        "\n",
        "            nfa_dict[state.name] = state_info\n",
        "\n",
        "        with open(\"NFA.json\", \"w\") as json_file:\n",
        "            json.dump(nfa_dict, json_file, indent=4, ensure_ascii=False)\n",
        "\n",
        "        return nfa_dict\n"
      ]
    },
    {
      "cell_type": "code",
      "execution_count": 128,
      "metadata": {
        "colab": {
          "base_uri": "https://localhost:8080/"
        },
        "id": "kxj6TOhvVZtv",
        "outputId": "6b18090a-949e-46bf-b237-344fd203e07d"
      },
      "outputs": [
        {
          "data": {
            "text/plain": [
              "{'startingState': 'S3',\n",
              " 'S3': {'isTerminatingState': False, 'ε': ['S1', 'S4', 'S6']},\n",
              " 'S4': {'isTerminatingState': False, 'ε': ['S5']},\n",
              " 'S1': {'isTerminatingState': False, 'a': ['S2']},\n",
              " 'S2': {'isTerminatingState': False, 'ε': ['S4', 'S1']},\n",
              " 'S5': {'isTerminatingState': False, 'b': ['S6']},\n",
              " 'S6': {'isTerminatingState': True}}"
            ]
          },
          "execution_count": 128,
          "metadata": {},
          "output_type": "execute_result"
        }
      ],
      "source": [
        "# nfa = NFA.postfix2NFA(postfix='A+B*.?CD|.')\n",
        "# nfa = NFA.postfix2NFA(postfix='ab|c|d|e|fA.|B|C|')\n",
        "nfa = NFA.postfix2NFA(postfix='a+b.')\n",
        "nfa.to_json()"
      ]
    },
    {
      "cell_type": "code",
      "execution_count": 129,
      "metadata": {
        "id": "GlnPj52gbnUs"
      },
      "outputs": [],
      "source": [
        "from graphviz import Digraph\n",
        "\n",
        "def visualize_NFA(nfa):\n",
        "\n",
        "  gra = Digraph(graph_attr={'rankdir':'LR'})\n",
        "\n",
        "\n",
        "  for s in nfa.states:\n",
        "      if(s.name == nfa.start.name):\n",
        "        gra.node(\"\", _attributes={'shape' : 'none'})\n",
        "        gra.edge(\"\", s.name)\n",
        "      if(s.name == nfa.accepting.name):\n",
        "        gra.node(s.name, _attributes={'peripheries' : '2'})\n",
        "      else:\n",
        "        gra.node(s.name)\n",
        "\n",
        "  edge_set = set()\n",
        "  for state in nfa.states:\n",
        "    for edge in state.out_edges:\n",
        "\n",
        "        destination = edge.dest\n",
        "        if destination is None:\n",
        "            continue\n",
        "\n",
        "        edge_key = (state.name, destination.name, edge.label)\n",
        "        if edge_key not in edge_set:\n",
        "            edge_set.add(edge_key)\n",
        "            gra.edge(state.name, destination.name, label=edge.label)\n",
        "\n",
        "  gra.format = 'png'\n",
        "  gra.render('NFA', view = True)\n",
        "  return gra.source"
      ]
    },
    {
      "cell_type": "code",
      "execution_count": 130,
      "metadata": {
        "colab": {
          "base_uri": "https://localhost:8080/",
          "height": 141
        },
        "id": "1I90DkZZnISs",
        "outputId": "35c9c22d-386c-40c4-f230-dd89b47d2d60"
      },
      "outputs": [
        {
          "data": {
            "image/png": "[encoded data removed]",
            "text/plain": [
              "<IPython.core.display.Image object>"
            ]
          },
          "execution_count": 130,
          "metadata": {},
          "output_type": "execute_result"
        }
      ],
      "source": [
        "from IPython.display import Image\n",
        "visualize_NFA(nfa)\n",
        "Image(filename='NFA.png')"
      ]
    },
    {
      "cell_type": "code",
      "execution_count": null,
      "metadata": {
        "id": "iXTGxWkWQtiL"
      },
      "outputs": [],
      "source": []
    }
  ],
  "metadata": {
    "colab": {
      "provenance": []
    },
    "kernelspec": {
      "display_name": "Python 3",
      "name": "python3"
    },
    "language_info": {
      "name": "python",
      "version": "3.13.2"
    }
  },
  "nbformat": 4,
  "nbformat_minor": 0
}
