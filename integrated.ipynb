{
  "cells": [
    {
      "cell_type": "markdown",
      "metadata": {
        "id": "PVdG0vBDABkI"
      },
      "source": [
        "# Postfix To NFA"
      ]
    },
    {
      "cell_type": "code",
      "execution_count": 1,
      "metadata": {
        "id": "LkZDa532WJ8i"
      },
      "outputs": [],
      "source": [
        "import shunting_yard\n",
        "from regex2NFA import State,NFA\n",
        "from NFA2DFA import DFA\n",
        "from minDFA import MinimizedDFA\n",
        "from IPython.display import Image"
      ]
    },
    {
      "cell_type": "markdown",
      "metadata": {
        "id": "JqP-cXWFOJr9"
      },
      "source": [
        "# Visualization Function"
      ]
    },
    {
      "cell_type": "code",
      "execution_count": 7,
      "metadata": {
        "id": "GlnPj52gbnUs"
      },
      "outputs": [],
      "source": [
        "from graphviz import Digraph\n",
        "\n",
        "def visualize_NFA(nfa):\n",
        "\n",
        "  gra = Digraph(graph_attr={'rankdir':'LR'})\n",
        "\n",
        "\n",
        "  for s in nfa.states:\n",
        "      if(s.name == nfa.start.name):\n",
        "        gra.node(\"\", _attributes={'shape' : 'none'})\n",
        "        gra.edge(\"\", s.name)\n",
        "      if(s.name == nfa.accepting.name):\n",
        "        gra.node(s.name, _attributes={'peripheries' : '2'})\n",
        "      else:\n",
        "        gra.node(s.name)\n",
        "\n",
        "  edge_set = set()\n",
        "  for state in nfa.states:\n",
        "    for edge in state.out_edges:\n",
        "\n",
        "        destination = edge.dest\n",
        "        edge_key = (state.name, destination.name, edge.label)\n",
        "        if edge_key not in edge_set:\n",
        "            edge_set.add(edge_key)\n",
        "            gra.edge(state.name, destination.name, label=edge.label)\n",
        "\n",
        "  gra.format = 'png'\n",
        "  gra.render('NFA', view = True)\n",
        "  return gra.source"
      ]
    },
    {
      "cell_type": "code",
      "source": [
        "from graphviz import Digraph\n",
        "\n",
        "def visualize_transition_dict(transition_dict):\n",
        "    gra = Digraph(graph_attr={'rankdir': 'LR'})\n",
        "\n",
        "    start_state = transition_dict[\"startingState\"]\n",
        "    gra.node(\"\", _attributes={'shape': 'none'})\n",
        "    gra.edge(\"\", start_state)\n",
        "\n",
        "    for state_name, transitions in transition_dict.items():\n",
        "        if state_name == \"startingState\":\n",
        "            continue\n",
        "\n",
        "        is_terminating = transitions.get(\"isTerminatingState\", False)\n",
        "\n",
        "        if is_terminating:\n",
        "            gra.node(state_name, _attributes={'peripheries': '2'})\n",
        "        else:\n",
        "            gra.node(state_name)\n",
        "\n",
        "        for symbol, target_state in transitions.items():\n",
        "            if symbol != \"isTerminatingState\":\n",
        "                gra.edge(state_name, target_state, label=symbol)\n",
        "\n",
        "    gra.format = 'png'\n",
        "    gra.render('minDFA', view=True)\n",
        "    return gra.source"
      ],
      "metadata": {
        "id": "eZznM7RiPUYI"
      },
      "execution_count": 11,
      "outputs": []
    },
    {
      "cell_type": "markdown",
      "metadata": {
        "id": "JdTE8Mjn_3bA"
      },
      "source": [
        "# NFA To DFA"
      ]
    },
    {
      "cell_type": "code",
      "execution_count": 14,
      "metadata": {
        "id": "bgTBeizoOJr-"
      },
      "outputs": [],
      "source": [
        "postfix = shunting_yard.infix2postfix('a+b')\n",
        "nfa = NFA.postfix2NFA(postfix)\n",
        "nfa.to_json()\n",
        "\n",
        "dfa = DFA()\n",
        "transitions,renamed_transitions=dfa.NFA2DFA(nfa)\n",
        "dfa.to_json(transitions,renamed_transitions)\n",
        "\n",
        "minimized_dfa = MinimizedDFA(dfa, renamed_transitions)\n",
        "minimized_transitions = minimized_dfa.minimize()\n",
        "minimized_dfa.to_json()\n"
      ]
    },
    {
      "cell_type": "code",
      "execution_count": 9,
      "metadata": {
        "colab": {
          "base_uri": "https://localhost:8080/",
          "height": 128
        },
        "id": "nzACQQZVOJr-",
        "outputId": "ce07584a-64b0-42f0-ddba-099d7f3becbf"
      },
      "outputs": [
        {
          "output_type": "execute_result",
          "data": {
            "image/png": "[encoded data removed]",
            "text/plain": [
              "<IPython.core.display.Image object>"
            ]
          },
          "metadata": {},
          "execution_count": 9
        }
      ],
      "source": [
        "visualize_NFA(nfa)\n",
        "Image(filename='NFA.png')"
      ]
    },
    {
      "cell_type": "code",
      "source": [
        "visualize_transition_dict(minimized_transitions)\n",
        "Image(filename='minDFA.png')"
      ],
      "metadata": {
        "colab": {
          "base_uri": "https://localhost:8080/",
          "height": 125
        },
        "id": "ah0op4QlOqrh",
        "outputId": "cd63c4ca-3780-4e1b-dbd7-3f7ae74e17f4"
      },
      "execution_count": 15,
      "outputs": [
        {
          "output_type": "execute_result",
          "data": {
            "image/png": "[encoded data removed]",
            "text/plain": [
              "<IPython.core.display.Image object>"
            ]
          },
          "metadata": {},
          "execution_count": 15
        }
      ]
    },
    {
      "cell_type": "code",
      "source": [],
      "metadata": {
        "id": "PmmCNNxIPjbl"
      },
      "execution_count": null,
      "outputs": []
    }
  ],
  "metadata": {
    "colab": {
      "provenance": []
    },
    "kernelspec": {
      "display_name": "Python 3",
      "name": "python3"
    },
    "language_info": {
      "codemirror_mode": {
        "name": "ipython",
        "version": 3
      },
      "file_extension": ".py",
      "mimetype": "text/x-python",
      "name": "python",
      "nbconvert_exporter": "python",
      "pygments_lexer": "ipython3",
      "version": "3.13.2"
    }
  },
  "nbformat": 4,
  "nbformat_minor": 0
}