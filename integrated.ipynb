{
  "cells": [
    {
      "cell_type": "markdown",
      "metadata": {
        "id": "PVdG0vBDABkI"
      },
      "source": [
        "# Postfix To NFA"
      ]
    },
    {
      "cell_type": "code",
      "execution_count": 65,
      "metadata": {
        "id": "LkZDa532WJ8i"
      },
      "outputs": [],
      "source": [
        "import shunting_yard\n",
        "from regex2NFA import State,NFA\n",
        "from NFA2DFA import DFA\n",
        "from minDFA import MinimizedDFA\n",
        "from IPython.display import Image"
      ]
    },
    {
      "cell_type": "markdown",
      "metadata": {
        "id": "JqP-cXWFOJr9"
      },
      "source": [
        "# Visualization Function"
      ]
    },
    {
      "cell_type": "code",
      "execution_count": 8,
      "metadata": {
        "id": "GlnPj52gbnUs"
      },
      "outputs": [],
      "source": [
        "from graphviz import Digraph\n",
        "\n",
        "def visualize_NFA(nfa):\n",
        "\n",
        "  gra = Digraph(graph_attr={'rankdir':'LR'})\n",
        "\n",
        "\n",
        "  for s in nfa.states:\n",
        "      if(s.name == nfa.start.name):\n",
        "        gra.node(\"\", _attributes={'shape' : 'none'})\n",
        "        gra.edge(\"\", s.name)\n",
        "      if(s.name == nfa.accepting.name):\n",
        "        gra.node(s.name, _attributes={'peripheries' : '2'})\n",
        "      else:\n",
        "        gra.node(s.name)\n",
        "\n",
        "  edge_set = set()\n",
        "  for state in nfa.states:\n",
        "    for edge in state.out_edges:\n",
        "\n",
        "        destination = edge.dest\n",
        "        edge_key = (state.name, destination.name, edge.label)\n",
        "        if edge_key not in edge_set:\n",
        "            edge_set.add(edge_key)\n",
        "            gra.edge(state.name, destination.name, label=edge.label)\n",
        "\n",
        "  gra.format = 'png'\n",
        "  gra.render('NFA', view = True)\n",
        "  return gra.source"
      ]
    },
    {
      "cell_type": "code",
      "execution_count": 9,
      "metadata": {
        "id": "eZznM7RiPUYI"
      },
      "outputs": [],
      "source": [
        "from graphviz import Digraph\n",
        "\n",
        "def visualize_transition_dict(transition_dict,title):\n",
        "    gra = Digraph(graph_attr={'rankdir': 'LR'})\n",
        "\n",
        "    start_state = transition_dict[\"startingState\"]\n",
        "    gra.node(\"\", _attributes={'shape': 'none'})\n",
        "    gra.edge(\"\", start_state)\n",
        "\n",
        "    for state_name, transitions in transition_dict.items():\n",
        "        if state_name == \"startingState\":\n",
        "            continue\n",
        "\n",
        "        is_terminating = transitions.get(\"isTerminatingState\", False)\n",
        "\n",
        "        if is_terminating:\n",
        "            gra.node(state_name, _attributes={'peripheries': '2'})\n",
        "        else:\n",
        "            gra.node(state_name)\n",
        "\n",
        "        for symbol, target_state in transitions.items():\n",
        "            if symbol != \"isTerminatingState\":\n",
        "                gra.edge(state_name, target_state, label=symbol)\n",
        "\n",
        "    gra.format = 'png'\n",
        "    gra.render(title, view=True)\n",
        "    return gra.source"
      ]
    },
    {
      "cell_type": "markdown",
      "metadata": {
        "id": "JdTE8Mjn_3bA"
      },
      "source": [
        "# NFA To DFA"
      ]
    },
    {
      "cell_type": "code",
      "execution_count": 68,
      "metadata": {
        "colab": {
          "base_uri": "https://localhost:8080/"
        },
        "id": "bgTBeizoOJr-",
        "outputId": "adf132b3-22f0-4930-fd3f-6a5336b73423"
      },
      "outputs": [
        {
          "name": "stdout",
          "output_type": "stream",
          "text": [
            "ab.c.de|f|.\n"
          ]
        }
      ],
      "source": [
        "# postfix = shunting_yard.infix2postfix('Kam*(o|ou)la?')\n",
        "# postfix = shunting_yard.infix2postfix('Aym[o+o+]na?')\n",
        "# postfix = shunting_yard.infix2postfix('a+b*a')\n",
        "# postfix = shunting_yard.infix2postfix('a+b')\n",
        "# postfix = shunting_yard.infix2postfix('a*b*ca')\n",
        "# postfix = shunting_yard.infix2postfix('a *b+ [a-z](c?)')\n",
        "# postfix = shunting_yard.infix2postfix('(a+a+)+b')\n",
        "# postfix = shunting_yard.infix2postfix('(a*)*')\n",
        "# postfix = shunting_yard.infix2postfix('[a-c]*')\n",
        "postfix = shunting_yard.infix2postfix('[abc](d|e|f)')\n",
        "\n",
        "print(postfix)\n",
        "nfa = NFA.postfix2NFA(postfix)\n",
        "nfa.to_json()\n",
        "\n",
        "dfa = DFA()\n",
        "transitions,renamed_transitions=dfa.NFA2DFA(nfa)\n",
        "dfa.to_json(transitions,renamed_transitions)\n",
        "\n",
        "minimized_dfa = MinimizedDFA(dfa, renamed_transitions)\n",
        "minimized_transitions = minimized_dfa.minimize()\n",
        "minimized_dfa.to_json()\n"
      ]
    },
    {
      "cell_type": "code",
      "execution_count": 67,
      "metadata": {
        "colab": {
          "base_uri": "https://localhost:8080/",
          "height": 168
        },
        "id": "nzACQQZVOJr-",
        "outputId": "4cac0b60-60d8-4f27-9070-974e33921564"
      },
      "outputs": [
        {
          "ename": "NameError",
          "evalue": "name 'visualize_NFA' is not defined",
          "output_type": "error",
          "traceback": [
            "\u001b[0;31m---------------------------------------------------------------------------\u001b[0m",
            "\u001b[0;31mNameError\u001b[0m                                 Traceback (most recent call last)",
            "Cell \u001b[0;32mIn[67], line 1\u001b[0m\n\u001b[0;32m----> 1\u001b[0m \u001b[43mvisualize_NFA\u001b[49m(nfa)\n\u001b[1;32m      2\u001b[0m Image(filename\u001b[38;5;241m=\u001b[39m\u001b[38;5;124m'\u001b[39m\u001b[38;5;124mNFA.png\u001b[39m\u001b[38;5;124m'\u001b[39m)\n",
            "\u001b[0;31mNameError\u001b[0m: name 'visualize_NFA' is not defined"
          ]
        }
      ],
      "source": [
        "visualize_NFA(nfa)\n",
        "Image(filename='NFA.png')"
      ]
    },
    {
      "cell_type": "code",
      "execution_count": 43,
      "metadata": {
        "colab": {
          "base_uri": "https://localhost:8080/",
          "height": 192
        },
        "id": "ah0op4QlOqrh",
        "outputId": "706c3e2f-5712-49aa-ba5f-8dc7aa46f957"
      },
      "outputs": [
        {
          "data": {
            "image/png": "[encoded data removed]",
            "text/plain": [
              "<IPython.core.display.Image object>"
            ]
          },
          "execution_count": 43,
          "metadata": {},
          "output_type": "execute_result"
        }
      ],
      "source": [
        "visualize_transition_dict(renamed_transitions,'DFA')\n",
        "Image(filename='DFA.png')"
      ]
    },
    {
      "cell_type": "code",
      "execution_count": 44,
      "metadata": {
        "colab": {
          "base_uri": "https://localhost:8080/",
          "height": 174
        },
        "id": "PmmCNNxIPjbl",
        "outputId": "9614fdf3-338e-4f9e-da1a-91131d7bcd2f"
      },
      "outputs": [
        {
          "data": {
            "image/png": "[encoded data removed]",
            "text/plain": [
              "<IPython.core.display.Image object>"
            ]
          },
          "execution_count": 44,
          "metadata": {},
          "output_type": "execute_result"
        }
      ],
      "source": [
        "visualize_transition_dict(minimized_transitions,'minDFA')\n",
        "Image(filename='minDFA.png')"
      ]
    },
    {
      "cell_type": "code",
      "execution_count": 14,
      "metadata": {
        "id": "3fZyqqPpF5yN"
      },
      "outputs": [],
      "source": [
        "# wrong postfix\n",
        "postfix = shunting_yard.infix2postfix('[abc](d|e|f)')\n",
        "postfix = shunting_yard.infix2postfix('[a-f0-9]32')\n",
        "# wrong minDFA\n",
        "postfix = shunting_yard.infix2postfix('(a*b*)([a-b]*)')\n"
      ]
    }
  ],
  "metadata": {
    "colab": {
      "provenance": []
    },
    "kernelspec": {
      "display_name": "Python 3",
      "name": "python3"
    },
    "language_info": {
      "codemirror_mode": {
        "name": "ipython",
        "version": 3
      },
      "file_extension": ".py",
      "mimetype": "text/x-python",
      "name": "python",
      "nbconvert_exporter": "python",
      "pygments_lexer": "ipython3",
      "version": "3.13.2"
    }
  },
  "nbformat": 4,
  "nbformat_minor": 0
}
